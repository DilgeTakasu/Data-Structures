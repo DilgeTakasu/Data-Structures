{
 "cells": [
  {
   "cell_type": "markdown",
   "id": "149a7684-945b-44b3-a2ec-1b2a9fe8e39d",
   "metadata": {},
   "source": [
    "<h1 style=\"color:darkblue;\">Comparison-Based Sorting Algorithms</h1>\n",
    "\n",
    "<ul>\n",
    "    <li><b>Bubble Sort</b></li>\n",
    "    <li><b>Selection Sort</b></li>\n",
    "    <li><b>Insertion Sort</b></li>\n",
    "</ul>\n",
    "\n",
    "<p style=\"font-size:16px;\">\n",
    "    These algorithms work by <i>comparing two elements</i> and <b>swapping them</b> if necessary.\n",
    "</p>\n"
   ]
  },
  {
   "cell_type": "markdown",
   "id": "4c6d5887-a499-4445-9ca4-62bee3cdf9ef",
   "metadata": {},
   "source": [
    "<h2 style=\"color:green;\">Bubble Sort</h2>\n",
    "\n",
    "<p><b>When to use Bubble Sort?</b></p>\n",
    "<ul>\n",
    "    <li>Small datasets.</li>\n",
    "    <li>When simplicity is more important than efficiency.</li>\n",
    "    <li>When the data is already partially sorted.</li>\n",
    "</ul>\n",
    "<p><b>When not to use Bubble Sort?</b></p>\n",
    "<p>\n",
    "Avoid using Bubble Sort for <b>large datasets</b> and <b>performance-critical applications</b>.\n",
    "In such cases, sorting algorithms like <i>Merge Sort</i> or <i>Quick Sort</i> are more suitable.\n",
    "</p>"
   ]
  },
  {
   "attachments": {},
   "cell_type": "markdown",
   "id": "32d9893c-6d22-47f6-8ce5-10e81108561e",
   "metadata": {},
   "source": [
    "Works by comparing two adjacent elements and swapping them if they are not in the correct order.\n",
    "\n",
    "1. Compare an element with its next element and swap them if necessary:\n",
    "\n",
    "```python\n",
    "if lst[j] > lst[j + 1]:\n",
    "    # swap elements\n",
    "    lst[j], lst[j + 1] = lst[j + 1], lst[j]\n",
    "```\n",
    "2. *Repeat step 1 for each element in the list using a loop.*\n",
    "Since we are comparing each element to its next element, we only need to run the loop up to the second-last element. This is because the last element will not have a next element for comparison.\n",
    "```python\n",
    "size = len(lst)\n",
    "\n",
    "for j in range(size - 1):\n",
    "    if lst[j] > lst[j + 1]:\n",
    "        lst[j], lst[j + 1] = lst[j + 1], lst[j]\n",
    "```\n",
    "3. Repeat step 2 for each element in the list. Repeat the above steps for each position. With each iteration of the outer loop, one element will settle in its correct position, starting from the largest element.\n",
    "```python\n",
    "size = len(lst)\n",
    "for i in range(size):\n",
    "    \n",
    "    for j in range(size - 1):\n",
    "        if lst[j] > lst[j + 1]:\n",
    "            lst[j], lst[j + 1] = lst[j + 1], lst[j]\n",
    "```\n"
   ]
  },
  {
   "cell_type": "code",
   "execution_count": 21,
   "id": "88b04bef-8d38-4a87-99d7-55a911ae629c",
   "metadata": {},
   "outputs": [],
   "source": [
    "def bubble_sort(lst):\n",
    "\n",
    "    size = len(lst)\n",
    "\n",
    "    for i in range(size):\n",
    "        for j in range(size - 1):\n",
    "            if lst[j] > lst[j + 1]:\n",
    "                lst[j], lst[j + 1] = lst[j + 1], lst[j]\n",
    "\n",
    "    return lst"
   ]
  },
  {
   "cell_type": "code",
   "execution_count": 22,
   "id": "5c768646-e4c0-407f-990b-36fcd6c78763",
   "metadata": {},
   "outputs": [
    {
     "name": "stdout",
     "output_type": "stream",
     "text": [
      "Unsorted list: [15, 16, 6, 8, 5]\n",
      "Sorted list: [5, 6, 8, 15, 16]\n"
     ]
    }
   ],
   "source": [
    "data_lst = [15, 16, 6, 8, 5]\n",
    "print(f\"Unsorted list: {data_lst}\")\n",
    "\n",
    "sorted_lst = bubble_sort(data_lst)\n",
    "print(f\"Sorted list: {sorted_lst}\")"
   ]
  },
  {
   "cell_type": "markdown",
   "id": "cd7b6049-b7a7-420b-9133-108f9a245659",
   "metadata": {},
   "source": [
    "<h3 style=\"color:green;\">Bubble Sort in Descending Order</h3>"
   ]
  },
  {
   "cell_type": "code",
   "execution_count": 23,
   "id": "0d43e86d-5143-4132-b3e2-127c69c7a92a",
   "metadata": {},
   "outputs": [],
   "source": [
    "def bubble_sort(lst):\n",
    "\n",
    "    size = len(lst)\n",
    "\n",
    "    for i in range(size):\n",
    "        for j in range(size - 1):\n",
    "            if lst[j] < lst[j + 1]:\n",
    "                lst[j], lst[j + 1] = lst[j + 1], lst[j]\n",
    "\n",
    "    return lst"
   ]
  },
  {
   "cell_type": "code",
   "execution_count": 24,
   "id": "8dab78ed-c344-4e2f-a153-7296541c5fad",
   "metadata": {},
   "outputs": [
    {
     "name": "stdout",
     "output_type": "stream",
     "text": [
      "Unsorted list: [1, 15, 6, 8, 2, 5, 9]\n",
      "Sorted list: [15, 9, 8, 6, 5, 2, 1]\n"
     ]
    }
   ],
   "source": [
    "data_lst = [1, 15, 6, 8, 2, 5, 9]\n",
    "print(f\"Unsorted list: {data_lst}\")\n",
    "\n",
    "sorted_lst = bubble_sort(data_lst)\n",
    "print(f\"Sorted list: {sorted_lst}\")"
   ]
  },
  {
   "cell_type": "markdown",
   "id": "c124f102-afeb-4478-b83d-dd2e164ed8c2",
   "metadata": {},
   "source": [
    "<h3 style=\"color:green;\">Optimized Bubble Sort Algorithm</h3>"
   ]
  },
  {
   "cell_type": "markdown",
   "id": "a90e85da-a483-4d70-8f14-93a5e8a920a8",
   "metadata": {},
   "source": [
    "First version of the bubble sort program carries out several unneccessary, redundant comparisons. So, to save time and resources it's a better idea to optimize the first version of the algoritm.\n",
    "\n",
    "**Before the optimization**: \n",
    "```python\n",
    "# Inner loop always runs up to the second last element\n",
    "for j in range(size - 1):\n",
    "    if lst[j] > lst[j + 1]:\n",
    "        lst[j], lst[j + 1] = lst[j + 1], lst[j]\n",
    "```\n",
    "**After the optimization**:\n",
    "```python\n",
    "# Outer loop controls number of passes\n",
    "for i in range(size):\n",
    "    # Reduces comparison range by i in each pass\n",
    "    for j in range(size - 1 - i):\n",
    "        if lst[j] > lst[j + 1]:\n",
    "            lst[j], lst[j + 1] = lst[j + 1], lst[j]\n",
    "```"
   ]
  },
  {
   "cell_type": "code",
   "execution_count": 25,
   "id": "b8f76ac6-b0f0-4336-b7b6-d5b835ed9820",
   "metadata": {},
   "outputs": [],
   "source": [
    "def optimized_bubble_sort(lst):\n",
    "\n",
    "    size = len(lst)\n",
    "\n",
    "    for i in range(size):\n",
    "        for j in range(size - 1 - i):\n",
    "            if lst[j] > lst[j + 1]:\n",
    "                lst[j], lst[j + 1] = lst[j + 1], lst[j]\n",
    "\n",
    "    return lst"
   ]
  },
  {
   "cell_type": "code",
   "execution_count": 26,
   "id": "19627a16-c741-4fa6-a72f-1047db1d737b",
   "metadata": {},
   "outputs": [
    {
     "name": "stdout",
     "output_type": "stream",
     "text": [
      "[1, 2, 4, 6, 9]\n"
     ]
    }
   ],
   "source": [
    "data_list = [9, 6, 1, 4, 2]\n",
    "\n",
    "sorted_list = optimized_bubble_sort(data_list)\n",
    "print(sorted_list)"
   ]
  },
  {
   "cell_type": "markdown",
   "id": "5f58515a-ec41-488a-a035-3f4ba1642a70",
   "metadata": {},
   "source": [
    "Above optimized bubble sort program completed in fewer steps than the unoptimized one. However, the program still iterates even when the list is already sorted. For instance, optimized bubble sort algoritm iterates **five times** for this already sorted list **[1, 2, 5, 7, 9]** because the list has five elements. Each iteration of the outer loop places one element in its correct position. Therefore, if no swaps occur during an entire pass of the inner loop, this means that elements are already in their correct-positions and the list is sorted. "
   ]
  },
  {
   "cell_type": "code",
   "execution_count": 27,
   "id": "a71271a2-f374-4bb4-9bd7-21aac5605910",
   "metadata": {},
   "outputs": [],
   "source": [
    "def opt_bubble_sort(lst):\n",
    "\n",
    "    size = len(lst)\n",
    "\n",
    "    for i in range(size):\n",
    "        # Use a variable to track swapping\n",
    "        swapped = False\n",
    "        for j in range(size - 1 - i):\n",
    "            # Change the swapped variable to True if swapping occurs\n",
    "            if lst[j] > lst[j + 1]:\n",
    "                lst[j], lst[j + 1] = lst[j + 1], lst[j]\n",
    "                swapped = True\n",
    "\n",
    "        # If swapping doesn't occur, the list is sorted, terminate the loop when sorted\n",
    "        if not swapped:\n",
    "            break\n",
    "\n",
    "    return lst"
   ]
  },
  {
   "cell_type": "code",
   "execution_count": 28,
   "id": "5e813294-3c99-44a4-873f-ef821ce38d9f",
   "metadata": {},
   "outputs": [
    {
     "name": "stdout",
     "output_type": "stream",
     "text": [
      "[1, 2, 4, 6, 9]\n"
     ]
    }
   ],
   "source": [
    "data_list = [1, 2, 4, 9, 6]\n",
    "\n",
    "sorted_list = opt_bubble_sort(data_list)\n",
    "print(sorted_list)"
   ]
  },
  {
   "cell_type": "markdown",
   "id": "e914c8a5-24b0-4846-a727-e3b632434fd6",
   "metadata": {},
   "source": [
    "In an optimized version of bubble sort, if no swaps are made in an iteration, the algorithm recognized the list is sorted and terminates early. \n",
    "\n",
    "- **Best Case Time Complexity**: O(n)\n",
    "- **Worst Case Time Complexity:** O(n^2)\n",
    "- **Average Case Time Complexity:** O(n^2)\n",
    "- **Space Complexity:** O(1)"
   ]
  }
 ],
 "metadata": {
  "kernelspec": {
   "display_name": "Python 3 (ipykernel)",
   "language": "python",
   "name": "python3"
  },
  "language_info": {
   "codemirror_mode": {
    "name": "ipython",
    "version": 3
   },
   "file_extension": ".py",
   "mimetype": "text/x-python",
   "name": "python",
   "nbconvert_exporter": "python",
   "pygments_lexer": "ipython3",
   "version": "3.10.16"
  }
 },
 "nbformat": 4,
 "nbformat_minor": 5
}
