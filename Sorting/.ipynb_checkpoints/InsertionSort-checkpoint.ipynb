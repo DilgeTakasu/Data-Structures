{
 "cells": [
  {
   "cell_type": "markdown",
   "id": "82548afd-c027-46f5-a7d8-b81ea4321986",
   "metadata": {},
   "source": [
    "<h1 style=\"color:green;\">Insertion Sort</h1>"
   ]
  },
  {
   "cell_type": "markdown",
   "id": "8f9b4a2c-7389-4154-b558-fbf134cd2c00",
   "metadata": {},
   "source": [
    "Insertion sort divides the list into a sorted an unsorted sublist. It then repeatedly takes the first element from the unsorted portion and inserts it into its correct position within the sorted portion. If we're using insertion sort to sort elements in ascending order we should stop when the key element is larger than or equal to the element to its left. "
   ]
  },
  {
   "cell_type": "markdown",
   "id": "9193d811-f83e-40d0-8ab8-07e6a1f90cc3",
   "metadata": {},
   "source": [
    "<img src=\"Insertion-sorting.png\" alt=\"Insertion Sort\" width=\"500\">\n",
    "\n"
   ]
  },
  {
   "cell_type": "markdown",
   "id": "020c855a-3e00-4811-9b8f-e631a1408cb5",
   "metadata": {},
   "source": [
    "<h2 style=\"color:green;\">Insertion Sort Implementation</h2>\n",
    "\n",
    "<ol>\n",
    "    <li> Divide the array into sorted and unsorted sublists by finding the key element.The key will always be the first element of the unsorted part.</li>\n",
    "    <li>Compare the key with the sorted elements one by one (from right to left) until the key element is either equal to or smaller.</li>\n",
    "    <li> If the sorted element to the left is larger than the <b>key</b>:\n",
    "        <ul>\n",
    "            <li>Shift that element one position to the right.</li>\n",
    "            <li>Keep repeating this process until the sorted element is smaller than the key.</li>\n",
    "            <li>Insert the <b>key</b> at the correct position.</li>\n",
    "        </ul>\n",
    "    </li>\n",
    "    <li> Repeat Step 1 and Step 2 until all elements are sorted. To accomplish this an outer loop should be added.\n",
    "    </li>\n",
    "</ol>"
   ]
  },
  {
   "cell_type": "markdown",
   "id": "1325bf24-5204-4875-a5d8-4ed306fde67a",
   "metadata": {},
   "source": [
    "```python\n",
    "key = lst[i]\n",
    "\n",
    "j = i - 1\n",
    "\n",
    "# compare the key element with elements to its left one by one\n",
    "# end the loop if the key element is larger or equal\n",
    "while key <= lst[j] and j >= 0:\n",
    "    # shift the element to its right\n",
    "    lst[j + 1] = lst[j]\n",
    "\n",
    "    # decrease j to go to the next element to its left \n",
    "    j = j - 1\n",
    "\n",
    "# insert the key element at the correct position\n",
    "lst[j + 1] = key\n",
    "```"
   ]
  },
  {
   "cell_type": "markdown",
   "id": "0beed274-78cb-4b3b-ba7a-e532fc6651cc",
   "metadata": {},
   "source": [
    "<ol start=\"4\">\n",
    "    <li> Repeat Step 1 and Step 2 until all elements are sorted. To accomplish this an outer loop should be added.\n",
    "    </li>\n",
    "</ol>"
   ]
  },
  {
   "cell_type": "markdown",
   "id": "32bb6347-9f74-450b-b3dd-7d6b133b6940",
   "metadata": {},
   "source": [
    "```python\n",
    "for i in range(1, len(lst)):\n",
    "\n",
    "    # key element\n",
    "    key = lst[i]\n",
    "\n",
    "    j = i - 1\n",
    "\n",
    "    # compare the key element with elements to its left one by one\n",
    "    # end the loop if the key element is larger or equal\n",
    "    while key < lst[j] and j >= 0:\n",
    "        # shift the element to its right\n",
    "        lst[j + 1] = lst[j]\n",
    "\n",
    "        # decrease j to go to the next element to its left \n",
    "        j = j - 1\n",
    "\n",
    "    # insert the key element at the correct position\n",
    "    lst[j + 1] = key\n",
    "```"
   ]
  },
  {
   "cell_type": "code",
   "execution_count": 6,
   "id": "3b8c2253-4f96-4d5f-8b19-84c2e4ee8b7e",
   "metadata": {},
   "outputs": [],
   "source": [
    "def insertion_sort(lst):\n",
    "    for i in range(1, len(lst)):\n",
    "\n",
    "        key = lst[i]\n",
    "        j = i - 1\n",
    "\n",
    "        while j >= 0 and key < lst[j]:\n",
    "            lst[j + 1] = lst[j]\n",
    "            j = j - 1\n",
    "\n",
    "        lst[j + 1] = key\n",
    "\n",
    "    return lst"
   ]
  },
  {
   "cell_type": "code",
   "execution_count": null,
   "id": "7fc63e88-0bd2-4c27-b4ed-1a52b5b53218",
   "metadata": {},
   "outputs": [],
   "source": [
    "data1 = [7, 4, 1, 3, 2]\n",
    "print(f\"Unsorted List: {data1}\")\n",
    "sorted_list = insertion_sort(data1)\n",
    "print(f\"Sorted List: {sorted_list}\")"
   ]
  },
  {
   "cell_type": "markdown",
   "id": "d293f9e6-e9e1-4e0a-aa31-f690de5f973b",
   "metadata": {},
   "source": [
    "<h2 style=\"color:green;\">Insertion Sort in Descending Order</h2>"
   ]
  },
  {
   "cell_type": "code",
   "execution_count": 8,
   "id": "29a6c631-969a-498d-a678-ae0c9050d889",
   "metadata": {},
   "outputs": [],
   "source": [
    "def insertion_sort(lst):\n",
    "    for i in range(1, len(lst)):\n",
    "\n",
    "        key = lst[i]\n",
    "        j = i - 1\n",
    "\n",
    "        while j >= 0 and key > lst[j]:\n",
    "            lst[j + 1] = lst[j]\n",
    "            j = j - 1\n",
    "\n",
    "        lst[j + 1] = key\n",
    "\n",
    "    return lst"
   ]
  },
  {
   "cell_type": "code",
   "execution_count": 9,
   "id": "88ec31b2-3ab0-47ff-9c17-eb5e7c5a7351",
   "metadata": {},
   "outputs": [
    {
     "name": "stdout",
     "output_type": "stream",
     "text": [
      "Unsorted List: [1, 15, 6, 8, 2, 5, 9]\n",
      "Sorted List: [15, 9, 8, 6, 5, 2, 1]\n"
     ]
    }
   ],
   "source": [
    "data2 = [1, 15, 6, 8, 2, 5, 9]\n",
    "print(f\"Unsorted List: {data2}\")\n",
    "sorted_list = insertion_sort(data2)\n",
    "print(f\"Sorted List: {sorted_list}\")"
   ]
  },
  {
   "cell_type": "markdown",
   "id": "fa775f63-ea39-4f57-9ac7-8ceefe563895",
   "metadata": {},
   "source": [
    "<h2 style=\"color:green;\">Partial Insertion Sort</h2>\n",
    "\n",
    "<p>A program that only sorts the first <b>n</b> elements of a list using the insertion sort algorithm. </p>"
   ]
  },
  {
   "cell_type": "markdown",
   "id": "a10de595-0aa6-4dab-af72-37616f5e0471",
   "metadata": {},
   "source": [
    "**Example list:**  \n",
    "`[5, 6, 2, 9, 1, 3]`, 3\n",
    "\n",
    "**Result:**  \n",
    "`[2, 5, 6]`"
   ]
  },
  {
   "cell_type": "code",
   "execution_count": 10,
   "id": "89daf465-9c63-492a-9546-a0b8d67b2710",
   "metadata": {},
   "outputs": [],
   "source": [
    "def perform_partial_sort(lst, n):\n",
    "    for i in range(1, n):\n",
    "        key = lst[i]\n",
    "        j = i - 1\n",
    "\n",
    "        while j >= 0 and key <= lst[j]:\n",
    "            lst[j + 1] = lst[j]\n",
    "            j = j - 1\n",
    "\n",
    "        lst[j + 1] = key\n",
    "\n",
    "    return lst[:n]"
   ]
  },
  {
   "cell_type": "code",
   "execution_count": 12,
   "id": "02b34fc0-2a53-4adf-954b-f7e3d9516be7",
   "metadata": {},
   "outputs": [
    {
     "name": "stdout",
     "output_type": "stream",
     "text": [
      "[5, 6, 2, 9, 1, 3]\n",
      "[2, 5, 6]\n"
     ]
    }
   ],
   "source": [
    "data3 = [5, 6, 2, 9, 1, 3]\n",
    "n = 3\n",
    "print(data3)\n",
    "result = perform_partial_sort(data3, n)\n",
    "print(result)"
   ]
  },
  {
   "cell_type": "markdown",
   "id": "50c9bc69-7808-4a73-b8a7-09653159f1ed",
   "metadata": {},
   "source": [
    "<h2 style=\"color:green;\">Complexity Analysis </h2>"
   ]
  },
  {
   "cell_type": "markdown",
   "id": "734625d3-5d3a-41ee-89c4-075930c3df5f",
   "metadata": {},
   "source": [
    "- **Best Case Time Complexity:** O(n)\n",
    "- **Worst Case Time Complexity:** O(n^2)\n",
    "- **Average Case Time Complexity:** O(n^2)\n",
    "- **Space Complexity:** O(1)"
   ]
  },
  {
   "cell_type": "code",
   "execution_count": null,
   "id": "5044761d-d414-404e-bca0-b9ba5379e3ae",
   "metadata": {},
   "outputs": [],
   "source": []
  }
 ],
 "metadata": {
  "kernelspec": {
   "display_name": "Python 3 (ipykernel)",
   "language": "python",
   "name": "python3"
  },
  "language_info": {
   "codemirror_mode": {
    "name": "ipython",
    "version": 3
   },
   "file_extension": ".py",
   "mimetype": "text/x-python",
   "name": "python",
   "nbconvert_exporter": "python",
   "pygments_lexer": "ipython3",
   "version": "3.10.16"
  }
 },
 "nbformat": 4,
 "nbformat_minor": 5
}
