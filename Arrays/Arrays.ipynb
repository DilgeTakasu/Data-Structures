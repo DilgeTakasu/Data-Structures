{
 "cells": [
  {
   "cell_type": "markdown",
   "id": "499f39bc-e822-474b-b148-d8292f3d27ef",
   "metadata": {},
   "source": [
    "<h1 style=\"color:darkblue;\">Arrays</h1>"
   ]
  },
  {
   "cell_type": "markdown",
   "id": "34a57245-72fd-4f10-bb4d-7a8fde384d97",
   "metadata": {},
   "source": [
    "An array is a collection of items stored in a single block of memory. Each item in an array is of the same type. Arrays are very common because they allow quick access to elements by using an index. \n",
    "\n",
    "**Key Points**\n",
    "- Same Data Type\n",
    "- Index-Based Access\n",
    "- Fixed Position in Memory\n",
    "\n",
    "**Fixed Position in Memory:** Elements are placed in consecutive memory locations, making access by index very fast. \n",
    "\n",
    "Arrays offer a simple way to store many similar values using one identifier. Each element in an array occupies a fixed amount of space in memory, depending on the data type."
   ]
  },
  {
   "cell_type": "markdown",
   "id": "ab90e841-03c1-489f-a806-8c4d3cbe949f",
   "metadata": {},
   "source": [
    "<h2 style=\"color:orange;\"> Static and Dynamic Arrays</h2>"
   ]
  },
  {
   "cell_type": "markdown",
   "id": "e7c7d773-8599-4292-9ab7-be3312a593af",
   "metadata": {},
   "source": [
    "Arrays can be categorized into static and dynamic types based on whether their size can change during runtime. "
   ]
  },
  {
   "cell_type": "markdown",
   "id": "24c0da4b-944d-4340-a625-c8c01a3ceddc",
   "metadata": {},
   "source": [
    "<h3 style=\"color:green;\">1. Static Arrays</h3>"
   ]
  },
  {
   "cell_type": "markdown",
   "id": "cc75eca7-14a3-48c6-a0d3-b16557f1861e",
   "metadata": {},
   "source": [
    "A static array is an array with a fixed size that is defined when it is created. The number of elements can not be changed after declaration. </br>\n",
    "**Key Features**\n",
    "- **Fixed Size:** The size is set at the time of declaration and remains unchanged throughout the program.\n",
    "- **Memory Allocation:** Static arrays are usually allocated on the **stack**, which makes them efficient in terms of speed.\n",
    "- **Efficient Access:** Since memory is allocated contiguously, accessing elements is very fast.\n",
    "- **No Resizing:** If additional space is needed beyond the declared size, a new array must be created and data copied over. "
   ]
  },
  {
   "cell_type": "markdown",
   "id": "f855f593-1641-4faf-a958-939a6e248b98",
   "metadata": {},
   "source": [
    "<h4 style=\"color:blue;\">Declaration and Initialization</h4>"
   ]
  },
  {
   "cell_type": "code",
   "execution_count": 9,
   "id": "f543eab7-b4ba-404a-9a19-0871639a3cb5",
   "metadata": {},
   "outputs": [
    {
     "name": "stdout",
     "output_type": "stream",
     "text": [
      "array('i', [1, 0, 0, 0, 0])\n",
      "1\n"
     ]
    }
   ],
   "source": [
    "from array import array\n",
    "\n",
    "# Static Array (Using the array module for strictly typed arrays; \n",
    "# to be noted that lists are more commonly used and can be considered dynamic\n",
    "\n",
    "staticArray = array('i', [0]*5) # Array of integers with a fixed size of 5\n",
    "staticArray[0] = 1\n",
    "print(staticArray)\n",
    "print(staticArray[0])"
   ]
  },
  {
   "cell_type": "markdown",
   "id": "91a80f2d-b046-43c1-b713-b398667c26b6",
   "metadata": {},
   "source": [
    "<h3 style=\"color:green;\">2. Dynamic Arrays</h3>"
   ]
  },
  {
   "cell_type": "markdown",
   "id": "29fa508a-4536-4b05-871c-c90416167e05",
   "metadata": {},
   "source": [
    "A **dynamic array** can change its size at runtime, allowing elements to be added or removed as needed.</br>\n",
    "\n",
    "**Key Features**\n",
    "- **Resizeable:** The array can expand when new elements are added and shrink when elements are removed.\n",
    "- **Memory Allocation:** Dynamic arrays are typically stored on the **heap**, meaning memory management is more complex.\n",
    "- **Performance Trade-offs:** While dynamic arrays provide flexibility, resizing them often involves allocation new memory and copying existing elements, which can be expensive in terms of time.\n",
    "- **Better Memory Utilization:** Since memory is allocated as needed, dynamic arrays reduce waste compared to static arrays.   "
   ]
  },
  {
   "cell_type": "markdown",
   "id": "c5d26e0c-3eeb-4f1c-b6c1-97b5cf67d759",
   "metadata": {},
   "source": [
    "<h4 style=\"color:blue;\">Declaration and Initialization</h4>"
   ]
  },
  {
   "cell_type": "code",
   "execution_count": 10,
   "id": "6313edc5-ccae-4c26-99d0-b80ae6111835",
   "metadata": {},
   "outputs": [],
   "source": [
    "dynamicArray = [] # Dynamic array (list in Python)\n",
    "dynamicArray.append(1) # Adding an element"
   ]
  },
  {
   "cell_type": "markdown",
   "id": "55775f17-caba-4606-b759-b52b7b1c6533",
   "metadata": {},
   "source": [
    "<h2 style=\"color:orange;\">Basic Concepts and Operations in Arrays</h2>"
   ]
  },
  {
   "cell_type": "code",
   "execution_count": null,
   "id": "b81adeab-351d-4c6c-90cb-1a7936acdb1a",
   "metadata": {},
   "outputs": [],
   "source": []
  }
 ],
 "metadata": {
  "kernelspec": {
   "display_name": "Python 3 (ipykernel)",
   "language": "python",
   "name": "python3"
  },
  "language_info": {
   "codemirror_mode": {
    "name": "ipython",
    "version": 3
   },
   "file_extension": ".py",
   "mimetype": "text/x-python",
   "name": "python",
   "nbconvert_exporter": "python",
   "pygments_lexer": "ipython3",
   "version": "3.10.16"
  }
 },
 "nbformat": 4,
 "nbformat_minor": 5
}
