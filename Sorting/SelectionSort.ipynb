{
 "cells": [
  {
   "cell_type": "markdown",
   "id": "56a971e3-cb58-466c-ba28-27bd7b3298de",
   "metadata": {},
   "source": [
    "<h1 style=\"color:green;\">Selection Sort </h1>"
   ]
  },
  {
   "cell_type": "markdown",
   "id": "75e95e87-b6c6-4466-b1f6-ee7a6f8cf974",
   "metadata": {},
   "source": [
    "<p>Selection sort works by repeatedly selecting the smallest (or largest) unsorted element and placing it towards the begining of the list.</p> \n",
    "<p>If we suppose that we need to sort a list in <b>ascending order</b> using selection sort:</p>\n",
    "<ul>\n",
    "    <li>Select the smallest element from the list.</li>\n",
    "    <li>Swap this element with the first element.</li>\n",
    "</ul>\n",
    "<p>At this point, the target element is placed at the first position. However, the portion of the list from the second position to the last element remains unsorted. Therefore,</p>\n",
    "<ul>\n",
    "    <li>Again we should select the smallest element from the remaining unsorted part (from the second to the last positions) of the list</li>\n",
    "    <li>Swap this element with the second element.</li>\n",
    "    <li>Continue this process for each following position until the entire list is unsorted.</li>\n",
    "</ul>\n",
    "\n"
   ]
  },
  {
   "cell_type": "markdown",
   "id": "83bf8884-c16b-400d-9518-2e933d45a0ac",
   "metadata": {},
   "source": [
    "**Example list:**  \n",
    "`[18, 10, 8, 14, 1]`\n",
    "\n",
    "**Step 1:**  \n",
    "Find the smallest element in the list → `1`  \n",
    "**Step 2:**  \n",
    "Swap it with the element in the first position (`18`).\n",
    "\n",
    "**Result after Step 2:**  \n",
    "`[1, 10, 8, 14, 18]`\n",
    "\n",
    "**1. Finding the index of the smallest element in the list.**\n",
    "```python\n",
    "lst =[18, 10, 8, 14, 1]\n",
    "min_idx = 0\n",
    "\n",
    "# iterate from second element to last\n",
    "for j in range(1, len(lst)):\n",
    "    # get the index of the smallest element \n",
    "    if lst[j] < lst[min_idx]:\n",
    "        min_idx = j\n",
    "\n",
    "print(min_idx) # Outputs 4\n",
    "```\n",
    "**2. Swapping the smallest element with the first element.**\n",
    "```python\n",
    "lst[min_idx], lst[0] = lst[0], lst[min_idx]\n",
    "```\n",
    "\n",
    "**3. We should repeat step 2 for each element in the list.**\n",
    "```python\n",
    "# Added outer loop to ensure that each element in the list is considered\n",
    "# not just the first element\n",
    "for i in range(len(lst)):\n",
    "    min_idx = i\n",
    "\n",
    "    for j in range(i + 1, len(lst)):\n",
    "        if lst[j] < lst[min_idx]:\n",
    "            min_idx = j\n",
    "        "
   ]
  },
  {
   "cell_type": "markdown",
   "id": "d4bbd343-b8da-4c13-890b-f1301f0f01a5",
   "metadata": {},
   "source": [
    "<h2 style=\"color:green;\">Selection Sort in Ascending Order </h2>"
   ]
  },
  {
   "cell_type": "code",
   "execution_count": 1,
   "id": "1837a4c4-67a8-46cc-ab14-04ca105dabc2",
   "metadata": {},
   "outputs": [],
   "source": [
    "def selection_sort(lst):\n",
    "    for i in range(len(lst)):\n",
    "\n",
    "        # assume the first unsorted element is the minimum\n",
    "        min_idx = i\n",
    "\n",
    "        # iterate over unsorted elements\n",
    "        for j in range(i + 1, len(lst)):\n",
    "            # find the index of the smallest element in the \n",
    "            # unsorted part of the list\n",
    "            if lst[j] < lst[min_idx]:\n",
    "                min_idx = j\n",
    "\n",
    "        # swap the smallest element with the first element \n",
    "        # of the unsorted part\n",
    "        lst[min_idx], lst[i] = lst[i], lst[min_idx]\n",
    "\n",
    "    return lst\n",
    "            "
   ]
  },
  {
   "cell_type": "code",
   "execution_count": 2,
   "id": "995b8427-d4a0-4413-a5e5-f6a5669201d9",
   "metadata": {},
   "outputs": [
    {
     "name": "stdout",
     "output_type": "stream",
     "text": [
      "Unsorted list: [18, 10, 8, 14, 1]\n",
      "Sorted list: [1, 8, 10, 14, 18]\n"
     ]
    }
   ],
   "source": [
    "data = [18, 10, 8, 14, 1]\n",
    "print(f\"Unsorted list: {data}\")\n",
    "\n",
    "sorted_data = selection_sort(data)\n",
    "print(f\"Sorted list: {sorted_data}\")"
   ]
  },
  {
   "cell_type": "markdown",
   "id": "897724b9-a213-4ded-837f-d797ce11f04c",
   "metadata": {},
   "source": [
    "<h2 style=\"color:green;\">Selection Sort in Descending Order </h2>"
   ]
  },
  {
   "cell_type": "code",
   "execution_count": 4,
   "id": "845cf462-6eea-427b-867d-caee7fb61945",
   "metadata": {},
   "outputs": [],
   "source": [
    "def selection_sort(lst):\n",
    "    for i in range(len(lst)):\n",
    "\n",
    "        # assume the first unsorted element is the minimum\n",
    "        min_idx = i\n",
    "\n",
    "        # iterate over unsorted elements\n",
    "        for j in range(i + 1, len(lst)):\n",
    "            # find the index of the smallest element in the \n",
    "            # unsorted part of the list\n",
    "            if lst[j] > lst[min_idx]:\n",
    "                min_idx = j\n",
    "\n",
    "        # swap the smallest element with the first element \n",
    "        # of the unsorted part\n",
    "        lst[min_idx], lst[i] = lst[i], lst[min_idx]\n",
    "\n",
    "    return lst"
   ]
  },
  {
   "cell_type": "code",
   "execution_count": 6,
   "id": "0a0a15bd-d197-416d-8737-36ac68803dc1",
   "metadata": {},
   "outputs": [
    {
     "name": "stdout",
     "output_type": "stream",
     "text": [
      "Unsorted list: [1, 15, 6, 8, 2, 5, 9]\n",
      "Sorted list: [15, 9, 8, 6, 5, 2, 1]\n"
     ]
    }
   ],
   "source": [
    "data2 = [1, 15, 6, 8, 2, 5, 9]\n",
    "print(f\"Unsorted list: {data2}\")\n",
    "\n",
    "sorted_data2 = selection_sort(data2)\n",
    "print(f\"Sorted list: {sorted_data2}\")"
   ]
  },
  {
   "cell_type": "markdown",
   "id": "c151014f-a5ed-4a26-811e-7c3c33167f14",
   "metadata": {},
   "source": [
    "<h3><span style=\"color:black;\">Problem:</span> <span style=\"color:green;\">Counting Swaps</span></h3>\n"
   ]
  },
  {
   "cell_type": "markdown",
   "id": "28aff2e0-b947-4300-b159-6a26d4162478",
   "metadata": {},
   "source": [
    "<p>Write a program to count the number of swaps made during the selection sort process.</p>\n",
    "<ul>\n",
    "    <li>Create a function named <b>count_swaps()</b> that takes a list of integers as its input.</li>\n",
    "    <li>The function should return the number of swaps needed to sort the list.</li>\n",
    "    <li>Print the number of swaps required.</li>\n",
    "</ul>\n",
    "\n",
    "**Example list:**  \n",
    "`[3, 1, 7, 5, 6]`\n",
    "\n",
    "**Result after first swap:**\n",
    "`[1, 3, 7, 5, 6]`\n",
    "\n",
    "**Result after second swap:**\n",
    "`[1, 3, 5, 6, 7]`\n",
    "\n",
    "**Input:**\n",
    "`3 1 7 5`\n",
    "\n",
    "**Output:**\n",
    "`2`"
   ]
  },
  {
   "cell_type": "code",
   "execution_count": 7,
   "id": "307a159e-d3ff-4c2f-9708-f55590b00542",
   "metadata": {},
   "outputs": [],
   "source": [
    "def count_swaps(lst):\n",
    "    # set number of swaps to 0\n",
    "    swaps = 0\n",
    "    for i in range(len(lst)):\n",
    "        min_index = i\n",
    "        for j in range(i + 1, len(lst)):\n",
    "            if lst[j] < lst[min_index]:\n",
    "                min_index = j\n",
    "        # swap only if lst[i] and lst[min_index] are not equal     \n",
    "        if lst[i] != lst[min_index]:\n",
    "            lst[min_index], lst[i] = lst[i], lst[min_index]\n",
    "            # increment the swaps variable\n",
    "            swaps += 1            \n",
    "    return swaps"
   ]
  },
  {
   "cell_type": "code",
   "execution_count": 10,
   "id": "8813c509-4360-456b-8a4b-0b8afcf1bf3e",
   "metadata": {},
   "outputs": [
    {
     "name": "stdout",
     "output_type": "stream",
     "text": [
      "2\n"
     ]
    }
   ],
   "source": [
    "data3 = [3, 1, 7, 5]\n",
    "count = count_swaps(data3)\n",
    "print(count)"
   ]
  },
  {
   "cell_type": "markdown",
   "id": "5b81add2-f138-4f4f-9b68-0f1e097ab5d0",
   "metadata": {},
   "source": [
    "<h2 style=\"color:green;\">Complexity Analysis </h2>"
   ]
  },
  {
   "cell_type": "markdown",
   "id": "a80e5c49-327c-4957-a58b-ecd59f849771",
   "metadata": {},
   "source": [
    "- **Time Complexity:** O(n^2)\n",
    "- **Space Complexity:** O(1)"
   ]
  },
  {
   "cell_type": "code",
   "execution_count": null,
   "id": "f1d3fc45-2c91-4548-8287-c92beb9d6ad5",
   "metadata": {},
   "outputs": [],
   "source": []
  }
 ],
 "metadata": {
  "kernelspec": {
   "display_name": "Python 3 (ipykernel)",
   "language": "python",
   "name": "python3"
  },
  "language_info": {
   "codemirror_mode": {
    "name": "ipython",
    "version": 3
   },
   "file_extension": ".py",
   "mimetype": "text/x-python",
   "name": "python",
   "nbconvert_exporter": "python",
   "pygments_lexer": "ipython3",
   "version": "3.10.16"
  }
 },
 "nbformat": 4,
 "nbformat_minor": 5
}
